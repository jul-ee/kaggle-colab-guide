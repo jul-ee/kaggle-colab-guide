{
  "nbformat": 4,
  "nbformat_minor": 0,
  "metadata": {
    "colab": {
      "provenance": []
    },
    "kernelspec": {
      "name": "python3",
      "display_name": "Python 3"
    },
    "language_info": {
      "name": "python"
    }
  },
  "cells": [
    {
      "cell_type": "markdown",
      "source": [
        "# 캐글 입문자를 위한 구글 코랩 환경 가이드\n",
        "\n",
        "이 노트북은 Kaggle Titanic 대회의 커널을 기반으로 작성하였습니다.\n",
        "\n",
        "Google Drive + Kaggle API + GitHub 연동 기반입니다."
      ],
      "metadata": {
        "id": "3tymOL6_V_fY"
      }
    },
    {
      "cell_type": "markdown",
      "source": [
        "### 1. Google Drive 마운트 (매번 필요)"
      ],
      "metadata": {
        "id": "bXlBfGNOdbXE"
      }
    },
    {
      "cell_type": "code",
      "source": [
        "from google.colab import drive\n",
        "drive.mount('/content/drive')"
      ],
      "metadata": {
        "id": "buysDGd7gycl",
        "colab": {
          "base_uri": "https://localhost:8080/"
        },
        "outputId": "f9fd5697-7fe8-43af-bf7c-bc90787a97ec"
      },
      "execution_count": 2,
      "outputs": [
        {
          "output_type": "stream",
          "name": "stdout",
          "text": [
            "Mounted at /content/drive\n"
          ]
        }
      ]
    },
    {
      "cell_type": "markdown",
      "source": [
        "### 2. kaggle.json 설정 (매번 필요)"
      ],
      "metadata": {
        "id": "GtzGBgcvdhKF"
      }
    },
    {
      "cell_type": "code",
      "source": [
        "# Kaggle API 설정\n",
        "!mkdir -p ~/.kaggle\n",
        "!cp /content/drive/MyDrive/kaggle_replica/kaggle.json ~/.kaggle/\n",
        "!chmod 600 ~/.kaggle/kaggle.json"
      ],
      "metadata": {
        "id": "VJ7Ptt4Zim3s"
      },
      "execution_count": 3,
      "outputs": []
    },
    {
      "cell_type": "markdown",
      "source": [
        "### 3. 데이터 다운로드 (처음 1번만 실행, 이후 생략 가능)"
      ],
      "metadata": {
        "id": "HixbBXLCdlqG"
      }
    },
    {
      "cell_type": "code",
      "source": [
        "# titanic 데이터 다운로드\n",
        "!kaggle competitions download -c titanic\n",
        "!unzip titanic.zip"
      ],
      "metadata": {
        "colab": {
          "base_uri": "https://localhost:8080/"
        },
        "id": "l6S5P7vaipwe",
        "outputId": "776879a8-444c-482f-8eaa-afaca167c11b"
      },
      "execution_count": null,
      "outputs": [
        {
          "output_type": "stream",
          "name": "stdout",
          "text": [
            "Archive:  titanic.zip\n",
            "  inflating: gender_submission.csv   \n",
            "  inflating: test.csv                \n",
            "  inflating: train.csv               \n"
          ]
        }
      ]
    },
    {
      "cell_type": "code",
      "source": [
        "target_dir = \"/content/drive/MyDrive/kaggle_replica/titanic\"\n",
        "\n",
        "# 파일 이동\n",
        "!mv train.csv {target_dir}/\n",
        "!mv test.csv {target_dir}/\n",
        "!mv gender_submission.csv {target_dir}/"
      ],
      "metadata": {
        "id": "4KT3LTfGjW-g"
      },
      "execution_count": null,
      "outputs": []
    },
    {
      "cell_type": "markdown",
      "source": [
        "### 4. 데이터 로드 (매번 필요)"
      ],
      "metadata": {
        "id": "_1obe6xRdp-8"
      }
    },
    {
      "cell_type": "code",
      "source": [
        "# 필요한 라이브러리도 함께 불러오기\n",
        "import pandas as pd\n",
        "\n",
        "train_path = '/content/drive/MyDrive/kaggle_replica/titanic/train.csv'\n",
        "test_path = '/content/drive/MyDrive/kaggle_replica/titanic/test.csv'\n",
        "\n",
        "train_df = pd.read_csv(train_path)\n",
        "test_df = pd.read_csv(test_path)"
      ],
      "metadata": {
        "id": "KcHF-if8eBNE"
      },
      "execution_count": null,
      "outputs": []
    },
    {
      "cell_type": "markdown",
      "source": [
        "이후부터는 그 아래 셀부터 이전에 하던 분석을 이어서 진행하면 됩니다.\n",
        "\n",
        "또한, 다른 Kaggle 대회 필사에서도 Drive에 있는 kaggle.json을 그대로 활용하면 됩니다.\n",
        "\n",
        "<br>\n",
        "\n",
        "초기 셀에 항상 위 코드를 넣어두면 자동 세팅 템플릿이 완성됩니다 :)"
      ],
      "metadata": {
        "id": "XrmjgWcXgKoL"
      }
    }
  ]
}